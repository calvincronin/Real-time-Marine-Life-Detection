{
 "cells": [
  {
   "cell_type": "code",
   "execution_count": 1,
   "metadata": {},
   "outputs": [],
   "source": [
    "import os\n",
    "import csv\n",
    "import xml.etree.ElementTree as ET"
   ]
  },
  {
   "cell_type": "code",
   "execution_count": 5,
   "metadata": {},
   "outputs": [],
   "source": [
    "# Define the folder containing the images and XML files\n",
    "train_data_folder = 'TrainData'\n",
    "output_csv = 'training.csv'\n",
    "googletrainfolder = '/content/drive/MyDrive/capstone/TrainData/'\n",
    "\n",
    "# Function to parse XML and extract bounding box details\n",
    "def parse_xml(xml_file):\n",
    "    tree = ET.parse(xml_file)\n",
    "    root = tree.getroot()\n",
    "\n",
    "    image_data = []\n",
    "    filename = root.find('filename').text\n",
    "    width = int(root.find('size/width').text)\n",
    "    height = int(root.find('size/height').text)\n",
    "\n",
    "    for obj in root.findall('object'):\n",
    "        name = obj.find('name').text\n",
    "        bndbox = obj.find('bndbox')\n",
    "        xmin = int(bndbox.find('xmin').text) / width\n",
    "        ymin = int(bndbox.find('ymin').text) / height\n",
    "        xmax = int(bndbox.find('xmax').text) / width\n",
    "        ymax = int(bndbox.find('ymax').text) / height\n",
    "        image_data.append([filename, name, xmin, ymin, xmax, ymax])\n",
    "\n",
    "    return image_data\n"
   ]
  },
  {
   "cell_type": "code",
   "execution_count": 6,
   "metadata": {},
   "outputs": [],
   "source": [
    "# Get list of XML files in the directory\n",
    "xml_files = [f for f in os.listdir() if f.endswith('.xml')]"
   ]
  },
  {
   "cell_type": "code",
   "execution_count": 8,
   "metadata": {},
   "outputs": [
    {
     "name": "stdout",
     "output_type": "stream",
     "text": [
      "Training data CSV file training.csv created successfully.\n"
     ]
    }
   ],
   "source": [
    "# Open CSV file for writing\n",
    "with open(output_csv, mode='w', newline='') as file:\n",
    "    writer = csv.writer(file)\n",
    "    writer.writerow(['SET', 'IMAGE_URI', 'LABEL', 'XMIN', 'YMIN', '', '', 'XMAX', 'YMAX', '', ''])\n",
    "\n",
    "    for xml_file in xml_files:\n",
    "        image_data = parse_xml(xml_file)\n",
    "\n",
    "        for item in image_data:\n",
    "            filename, name, xmin, ymin, xmax, ymax = item\n",
    "            image_uri = googletrainfolder + filename\n",
    "            writer.writerow(['TRAIN', image_uri, name, xmin, ymin, '', '', xmax, ymax, '', ''])\n",
    "\n",
    "print(f'Training data CSV file {output_csv} created successfully.')"
   ]
  },
  {
   "cell_type": "code",
   "execution_count": 11,
   "metadata": {},
   "outputs": [
    {
     "name": "stderr",
     "output_type": "stream",
     "text": [
      "C:\\Users\\ccronin\\AppData\\Local\\Temp\\ipykernel_27620\\830809472.py:14: DeprecationWarning: LANCZOS is deprecated and will be removed in Pillow 10 (2023-07-01). Use Resampling.LANCZOS instead.\n",
      "  img = img.resize(size, Image.LANCZOS)\n"
     ]
    },
    {
     "name": "stdout",
     "output_type": "stream",
     "text": [
      "All images have been resized and saved to pics384.\n"
     ]
    }
   ],
   "source": [
    "import os\n",
    "from PIL import Image\n",
    "\n",
    "# Define the folder containing the images and the output folder\n",
    "output_folder = 'pics384'\n",
    "\n",
    "# Create the output folder if it doesn't exist\n",
    "if not os.path.exists(output_folder):\n",
    "    os.makedirs(output_folder)\n",
    "\n",
    "# Function to resize images\n",
    "def resize_image(input_path, output_path, size=(384, 384)):\n",
    "    with Image.open(input_path) as img:\n",
    "        img = img.resize(size, Image.LANCZOS)\n",
    "        img.save(output_path)\n",
    "\n",
    "# Iterate through all images in the train_data_folder\n",
    "for filename in os.listdir():\n",
    "    if filename.endswith('.jpg') or filename.endswith('.png'):  # Adjust the file extensions as needed\n",
    "        output_path = os.path.join(output_folder, filename)\n",
    "        resize_image(filename, output_path)\n",
    "\n",
    "print(f\"All images have been resized and saved to {output_folder}.\")"
   ]
  }
 ],
 "metadata": {
  "kernelspec": {
   "display_name": "Python 3",
   "language": "python",
   "name": "python3"
  },
  "language_info": {
   "codemirror_mode": {
    "name": "ipython",
    "version": 3
   },
   "file_extension": ".py",
   "mimetype": "text/x-python",
   "name": "python",
   "nbconvert_exporter": "python",
   "pygments_lexer": "ipython3",
   "version": "3.10.6"
  }
 },
 "nbformat": 4,
 "nbformat_minor": 2
}
